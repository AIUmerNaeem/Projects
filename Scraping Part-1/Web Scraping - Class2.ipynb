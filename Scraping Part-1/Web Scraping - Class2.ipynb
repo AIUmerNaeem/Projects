{
 "cells": [
  {
   "cell_type": "code",
   "execution_count": 1,
   "id": "49978fb9-f16e-4d58-b816-7c36c1ca6e43",
   "metadata": {},
   "outputs": [],
   "source": [
    "import requests # to use http protocols\n",
    "from bs4 import BeautifulSoup # to parse the html code\n",
    "import json\n",
    "import re"
   ]
  },
  {
   "cell_type": "code",
   "execution_count": 2,
   "id": "72c29627-767e-4aea-9042-cbc2e79991f3",
   "metadata": {},
   "outputs": [],
   "source": [
    "# step#1\n",
    "# identifying the url or website\n",
    "url = 'https://www.thriftbooks.com/browse/?12529col#b.s=mostPopular-desc&b.p=1&b.pp=50&b.col&b.f.t%5B%5D=12529&b.list'"
   ]
  },
  {
   "cell_type": "code",
   "execution_count": 7,
   "id": "12c3d2f6-ffcb-4bea-8106-9364e0fc15db",
   "metadata": {},
   "outputs": [
    {
     "data": {
      "text/plain": [
       "<Response [200]>"
      ]
     },
     "execution_count": 7,
     "metadata": {},
     "output_type": "execute_result"
    }
   ],
   "source": [
    "content = requests.get(url)\n",
    "content"
   ]
  },
  {
   "cell_type": "code",
   "execution_count": 4,
   "id": "8b157bcd-1f0a-488a-af94-c3a59194e1bc",
   "metadata": {},
   "outputs": [],
   "source": [
    "# step#2a\n",
    "# parsing the content of the url\n",
    "content = requests.get(url).content\n",
    "soup = BeautifulSoup(content, 'html.parser')"
   ]
  },
  {
   "cell_type": "code",
   "execution_count": 5,
   "id": "f4cb8aeb-b07b-431f-826a-5ff3b86b3204",
   "metadata": {},
   "outputs": [],
   "source": [
    "# step#2b\n",
    "# Transforming and Filtering the data\n",
    "\n",
    "data = soup.find_all('script')\n",
    "string = data[12].string\n",
    "\n",
    "data = {}\n",
    "\n",
    "match = re.search(r'window\\.searchStoreV2\\s*=\\s*(\\{.*?\\});', string, re.DOTALL)\n",
    "if match:\n",
    "    works = match.group(1)\n",
    "    works_json = json.loads(works)\n",
    "\n",
    "    works = works_json.get('works')\n",
    "\n",
    "with open(r'thrift_books_data.csv', 'a') as f:\n",
    "    f.write(f'title,condition,buy_price\\n')\n",
    "\n",
    "for i in works:\n",
    "    data.update(i)\n",
    "    title = data['title']\n",
    "    condition = data['buyNowCondition']   \n",
    "    buy_price = data['buyNowPrice']\n",
    "\n",
    "    with open(r'thrift_books_data.csv', 'a') as f:\n",
    "        f.write(f'{title},{condition},{buy_price}\\n')\n",
    "    "
   ]
  },
  {
   "cell_type": "code",
   "execution_count": 6,
   "id": "aff64316-c22f-4b6f-a1ae-3b408022f91e",
   "metadata": {},
   "outputs": [
    {
     "name": "stdout",
     "output_type": "stream",
     "text": [
      "{'buyNowIDIQ': 1964040, 'buyNowCondition': 'Good', 'buyNowConditionScore': 3, 'language': 'english', 'imageUrl': 'https://i.thriftbooks.com/api/imagehandler/m/D70D7E7467C535449A4E17D6F91ADD61F9441480.jpeg', 'idAmazon': 2672491, 'availableCopies': 202, 'idWishList': 0, 'buyNowIsExLib': False, 'buyNowIsNoCD': False, 'buyNowIsNoDust': False, 'buyNowPrice': 4.29, 'isThriftDeal': True, 'searchResultId': '416b7d5b-e3f1-41ab-9584-f04def16fd1f', 'idWork': 247373, 'title': 'The Lightning Thief', 'workUrl': 'the-lightning-thief_rick-riordan', 'workImageMedium': 'https://i.thriftbooks.com/api/imagehandler/m/D70D7E7467C535449A4E17D6F91ADD61F9441480.jpeg', 'workImageSmall': 'https://i.thriftbooks.com/api/imagehandler/s/D70D7E7467C535449A4E17D6F91ADD61F9441480.jpeg', 'workImageLarge': 'https://i.thriftbooks.com/api/imagehandler/l/D70D7E7467C535449A4E17D6F91ADD61F9441480.jpeg', 'lowPrice': 3.99, 'highPrice': 61.59, 'idMedia': 74, 'media': 'Paperback', 'idQuality': 3, 'idIq': 1964040, 'qualityDescription': 'Good', 'listPrice': 8.99, 'editionImageLarge': 'https://i.thriftbooks.com/api/imagehandler/l/D70D7E7467C535449A4E17D6F91ADD61F9441480.jpeg', 'editionImageMedium': 'https://i.thriftbooks.com/api/imagehandler/m/D70D7E7467C535449A4E17D6F91ADD61F9441480.jpeg', 'editionImageSmall': 'https://i.thriftbooks.com/api/imagehandler/s/D70D7E7467C535449A4E17D6F91ADD61F9441480.jpeg', 'idLanguage': 40, 'languageProperCase': 'English', 'publisher': 'Disney-Hyperion', 'releaseDate': '2006-04-01T00:00:00', 'onSaleDate': '0001-01-01T00:00:00', 'iSBN': '0786838655', 'numberOfReviews': 35, 'avgReviewScore': 4.68571424, 'authors': [{'idAuthor': 196802, 'authorName': 'Rick Riordan', 'authorCleanUrl': 'rick-riordan', 'authorSalesRank': 23}], 'series': [{'idSeries': 37158, 'seriesCleanUrl': 'percy-jackson-and-the-olympians-companion-book', 'seriesName': 'Percy Jackson and the Olympians', 'seriesPriority': 74, 'seriesNumber': '1'}], 'editions': None, 'allEditionCount': 86, 'collectibleCount': 0, 'collectibleLowPrice': 0.0, 'collectibleFormat': None, 'collectibleISBN': None, 'collectiblePublisher': None, 'collectibleReleaseDate': None, 'collectibleCondition': None, 'collectibleImage': None, 'collectibleTitle': None, 'idCollectible': 0, 'collectibleSignedBy': None, 'collectibleInscribedBy': None, 'collectibleEditionName': None, 'collectibleBuyNowPrice': 0.0, 'copiesPerSixMonths': 2355, 'listItemCount': 2150, 'isBackorder': False, 'rerankedSort': 0.0}\n"
     ]
    }
   ],
   "source": [
    "print(data)"
   ]
  },
  {
   "cell_type": "code",
   "execution_count": null,
   "id": "c6fee0f5",
   "metadata": {},
   "outputs": [],
   "source": []
  }
 ],
 "metadata": {
  "kernelspec": {
   "display_name": "base",
   "language": "python",
   "name": "python3"
  },
  "language_info": {
   "codemirror_mode": {
    "name": "ipython",
    "version": 3
   },
   "file_extension": ".py",
   "mimetype": "text/x-python",
   "name": "python",
   "nbconvert_exporter": "python",
   "pygments_lexer": "ipython3",
   "version": "3.12.7"
  }
 },
 "nbformat": 4,
 "nbformat_minor": 5
}
