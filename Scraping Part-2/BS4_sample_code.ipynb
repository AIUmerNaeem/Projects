{
 "cells": [
  {
   "cell_type": "code",
   "execution_count": 2,
   "metadata": {},
   "outputs": [
    {
     "name": "stdout",
     "output_type": "stream",
     "text": [
      "hello\n"
     ]
    }
   ],
   "source": [
    "print(\"hello\")"
   ]
  },
  {
   "cell_type": "code",
   "execution_count": 3,
   "metadata": {},
   "outputs": [
    {
     "name": "stdout",
     "output_type": "stream",
     "text": [
      "Collecting bs4\n",
      "  Downloading bs4-0.0.2-py2.py3-none-any.whl.metadata (411 bytes)\n",
      "Collecting beautifulsoup4 (from bs4)\n",
      "  Downloading beautifulsoup4-4.13.4-py3-none-any.whl.metadata (3.8 kB)\n",
      "Collecting soupsieve>1.2 (from beautifulsoup4->bs4)\n",
      "  Downloading soupsieve-2.7-py3-none-any.whl.metadata (4.6 kB)\n",
      "Collecting typing-extensions>=4.0.0 (from beautifulsoup4->bs4)\n",
      "  Downloading typing_extensions-4.13.2-py3-none-any.whl.metadata (3.0 kB)\n",
      "Downloading bs4-0.0.2-py2.py3-none-any.whl (1.2 kB)\n",
      "Downloading beautifulsoup4-4.13.4-py3-none-any.whl (187 kB)\n",
      "Downloading soupsieve-2.7-py3-none-any.whl (36 kB)\n",
      "Downloading typing_extensions-4.13.2-py3-none-any.whl (45 kB)\n",
      "Installing collected packages: typing-extensions, soupsieve, beautifulsoup4, bs4\n",
      "Successfully installed beautifulsoup4-4.13.4 bs4-0.0.2 soupsieve-2.7 typing-extensions-4.13.2\n",
      "Note: you may need to restart the kernel to use updated packages.\n"
     ]
    },
    {
     "name": "stderr",
     "output_type": "stream",
     "text": [
      "\n",
      "[notice] A new release of pip is available: 25.0.1 -> 25.1.1\n",
      "[notice] To update, run: python.exe -m pip install --upgrade pip\n"
     ]
    }
   ],
   "source": [
    "pip install bs4"
   ]
  },
  {
   "cell_type": "code",
   "execution_count": 4,
   "metadata": {},
   "outputs": [
    {
     "name": "stdout",
     "output_type": "stream",
     "text": [
      "Collecting requests\n",
      "  Downloading requests-2.32.3-py3-none-any.whl.metadata (4.6 kB)\n",
      "Collecting charset-normalizer<4,>=2 (from requests)\n",
      "  Downloading charset_normalizer-3.4.2-cp313-cp313-win_amd64.whl.metadata (36 kB)\n",
      "Collecting idna<4,>=2.5 (from requests)\n",
      "  Downloading idna-3.10-py3-none-any.whl.metadata (10 kB)\n",
      "Collecting urllib3<3,>=1.21.1 (from requests)\n",
      "  Downloading urllib3-2.4.0-py3-none-any.whl.metadata (6.5 kB)\n",
      "Collecting certifi>=2017.4.17 (from requests)\n",
      "  Downloading certifi-2025.4.26-py3-none-any.whl.metadata (2.5 kB)\n",
      "Downloading requests-2.32.3-py3-none-any.whl (64 kB)\n",
      "Downloading certifi-2025.4.26-py3-none-any.whl (159 kB)\n",
      "Downloading charset_normalizer-3.4.2-cp313-cp313-win_amd64.whl (105 kB)\n",
      "Downloading idna-3.10-py3-none-any.whl (70 kB)\n",
      "Downloading urllib3-2.4.0-py3-none-any.whl (128 kB)\n",
      "Installing collected packages: urllib3, idna, charset-normalizer, certifi, requests\n",
      "Successfully installed certifi-2025.4.26 charset-normalizer-3.4.2 idna-3.10 requests-2.32.3 urllib3-2.4.0\n",
      "Note: you may need to restart the kernel to use updated packages.\n"
     ]
    },
    {
     "name": "stderr",
     "output_type": "stream",
     "text": [
      "\n",
      "[notice] A new release of pip is available: 25.0.1 -> 25.1.1\n",
      "[notice] To update, run: python.exe -m pip install --upgrade pip\n"
     ]
    }
   ],
   "source": [
    "pip install requests"
   ]
  },
  {
   "cell_type": "code",
   "execution_count": 5,
   "metadata": {},
   "outputs": [],
   "source": [
    "from bs4 import BeautifulSoup\n",
    "import requests"
   ]
  },
  {
   "cell_type": "code",
   "execution_count": 6,
   "metadata": {},
   "outputs": [
    {
     "data": {
      "text/plain": [
       "<Response [200]>"
      ]
     },
     "execution_count": 6,
     "metadata": {},
     "output_type": "execute_result"
    }
   ],
   "source": [
    "url = 'https://realpython.github.io/fake-jobs/'\n",
    "request = requests.get(url)\n",
    "request"
   ]
  },
  {
   "cell_type": "code",
   "execution_count": null,
   "metadata": {},
   "outputs": [],
   "source": [
    "soup = BeautifulSoup(request.content, 'html.parser') # urlib\n",
    "soup "
   ]
  },
  {
   "cell_type": "code",
   "execution_count": 9,
   "metadata": {},
   "outputs": [
    {
     "name": "stdout",
     "output_type": "stream",
     "text": [
      "Senior Python Developer\n"
     ]
    }
   ],
   "source": [
    "title = soup.find('h2',class_ = 'title is-5')\n",
    "print(title.text)"
   ]
  },
  {
   "cell_type": "code",
   "execution_count": 33,
   "metadata": {},
   "outputs": [
    {
     "name": "stdout",
     "output_type": "stream",
     "text": [
      "Stewartbury, AA\n"
     ]
    }
   ],
   "source": [
    "location = soup.find('p',class_='location').text.strip()\n",
    "# .strip() to remove extra spaces\n",
    "print(location)"
   ]
  },
  {
   "cell_type": "code",
   "execution_count": 14,
   "metadata": {},
   "outputs": [
    {
     "name": "stdout",
     "output_type": "stream",
     "text": [
      "Senior Python Developer Payne, Roberts and Davis Stewartbury, AA 2021-04-08\n"
     ]
    }
   ],
   "source": [
    "title = soup.find('h2',class_ = 'title is-5').text.strip()\n",
    "sub_title = soup.find('h3', class_='subtitle is-6 company').text.strip()\n",
    "location = soup.find('p',class_='location').text.strip()\n",
    "date = soup.find('p',class_='is-small has-text-grey').text.strip()\n",
    "print(title,sub_title,location,date)"
   ]
  },
  {
   "cell_type": "code",
   "execution_count": 16,
   "metadata": {},
   "outputs": [
    {
     "data": {
      "text/plain": [
       "'Senior Python Developer'"
      ]
     },
     "execution_count": 16,
     "metadata": {},
     "output_type": "execute_result"
    }
   ],
   "source": [
    "second_job = soup.find('h2',class_='title is-5').text\n",
    "second_job"
   ]
  },
  {
   "cell_type": "code",
   "execution_count": null,
   "metadata": {},
   "outputs": [],
   "source": [
    "divs = soup.find_all('div',class_='column is-half')\n",
    "divs"
   ]
  },
  {
   "cell_type": "code",
   "execution_count": 21,
   "metadata": {},
   "outputs": [
    {
     "name": "stdout",
     "output_type": "stream",
     "text": [
      "100\n"
     ]
    }
   ],
   "source": [
    "print(len(divs))\n",
    "data = ['first','second']"
   ]
  },
  {
   "cell_type": "code",
   "execution_count": null,
   "metadata": {},
   "outputs": [],
   "source": [
    "# find  -> first element\n",
    "# find_all -> all the elements in a list "
   ]
  },
  {
   "cell_type": "code",
   "execution_count": 31,
   "metadata": {},
   "outputs": [
    {
     "name": "stdout",
     "output_type": "stream",
     "text": [
      "first\n",
      "second\n",
      "third\n"
     ]
    }
   ],
   "source": [
    "divs = ['first','second','third']\n",
    "for div in divs:\n",
    "    print(div)"
   ]
  },
  {
   "cell_type": "code",
   "execution_count": null,
   "metadata": {},
   "outputs": [],
   "source": [
    "divs = soup.find_all('div',class_='column is-half')\n",
    "divs"
   ]
  },
  {
   "cell_type": "code",
   "execution_count": 24,
   "metadata": {},
   "outputs": [
    {
     "data": {
      "text/plain": [
       "[['Senior Python Developer',\n",
       "  'Payne, Roberts and Davis',\n",
       "  'Stewartbury, AA',\n",
       "  '2021-04-08'],\n",
       " ['Energy engineer', 'Vasquez-Davidson', 'Christopherville, AA', '2021-04-08'],\n",
       " ['Legal executive',\n",
       "  'Jackson, Chambers and Levy',\n",
       "  'Port Ericaburgh, AA',\n",
       "  '2021-04-08'],\n",
       " ['Fitness centre manager',\n",
       "  'Savage-Bradley',\n",
       "  'East Seanview, AP',\n",
       "  '2021-04-08'],\n",
       " ['Product manager', 'Ramirez Inc', 'North Jamieview, AP', '2021-04-08'],\n",
       " ['Medical technical officer', 'Rogers-Yates', 'Davidville, AP', '2021-04-08'],\n",
       " ['Physiological scientist',\n",
       "  'Kramer-Klein',\n",
       "  'South Christopher, AE',\n",
       "  '2021-04-08'],\n",
       " ['Textile designer', 'Meyers-Johnson', 'Port Jonathan, AE', '2021-04-08'],\n",
       " ['Television floor manager',\n",
       "  'Hughes-Williams',\n",
       "  'Osbornetown, AE',\n",
       "  '2021-04-08'],\n",
       " ['Waste management officer',\n",
       "  'Jones, Williams and Villa',\n",
       "  'Scotttown, AP',\n",
       "  '2021-04-08'],\n",
       " ['Software Engineer (Python)', 'Garcia PLC', 'Ericberg, AE', '2021-04-08'],\n",
       " ['Interpreter', 'Gregory and Sons', 'Ramireztown, AE', '2021-04-08'],\n",
       " ['Architect', 'Clark, Garcia and Sosa', 'Figueroaview, AA', '2021-04-08'],\n",
       " ['Meteorologist', 'Bush PLC', 'Kelseystad, AA', '2021-04-08'],\n",
       " ['Audiological scientist',\n",
       "  'Salazar-Meyers',\n",
       "  'Williamsburgh, AE',\n",
       "  '2021-04-08'],\n",
       " ['English as a second language teacher',\n",
       "  'Parker, Murphy and Brooks',\n",
       "  'Mitchellburgh, AE',\n",
       "  '2021-04-08'],\n",
       " ['Surgeon', 'Cruz-Brown', 'West Jessicabury, AA', '2021-04-08'],\n",
       " ['Equities trader', 'Macdonald-Ferguson', 'Maloneshire, AE', '2021-04-08'],\n",
       " ['Newspaper journalist',\n",
       "  'Williams, Peterson and Rojas',\n",
       "  'Johnsonton, AA',\n",
       "  '2021-04-08'],\n",
       " ['Materials engineer', 'Smith and Sons', 'South Davidtown, AP', '2021-04-08'],\n",
       " ['Python Programmer (Entry-Level)',\n",
       "  'Moss, Duncan and Allen',\n",
       "  'Port Sara, AE',\n",
       "  '2021-04-08'],\n",
       " ['Product/process development scientist',\n",
       "  'Gomez-Carroll',\n",
       "  'Marktown, AA',\n",
       "  '2021-04-08'],\n",
       " ['Scientist, research (maths)',\n",
       "  'Manning, Welch and Herring',\n",
       "  'Laurenland, AE',\n",
       "  '2021-04-08'],\n",
       " ['Ecologist', 'Lee, Gutierrez and Brown', 'Lauraton, AP', '2021-04-08'],\n",
       " ['Materials engineer',\n",
       "  'Davis, Serrano and Cook',\n",
       "  'South Tammyberg, AP',\n",
       "  '2021-04-08'],\n",
       " ['Historic buildings inspector/conservation officer',\n",
       "  'Smith LLC',\n",
       "  'North Brandonville, AP',\n",
       "  '2021-04-08'],\n",
       " ['Data scientist', 'Thomas Group', 'Port Robertfurt, AA', '2021-04-08'],\n",
       " ['Psychiatrist', 'Silva-King', 'Burnettbury, AE', '2021-04-08'],\n",
       " ['Structural engineer', 'Pierce-Long', 'Herbertside, AA', '2021-04-08'],\n",
       " ['Immigration officer',\n",
       "  'Walker-Simpson',\n",
       "  'Christopherport, AP',\n",
       "  '2021-04-08'],\n",
       " ['Python Programmer (Entry-Level)',\n",
       "  'Cooper and Sons',\n",
       "  'West Victor, AE',\n",
       "  '2021-04-08'],\n",
       " ['Neurosurgeon',\n",
       "  'Donovan, Gonzalez and Figueroa',\n",
       "  'Port Aaron, AP',\n",
       "  '2021-04-08'],\n",
       " ['Broadcast engineer',\n",
       "  'Morgan, Butler and Bennett',\n",
       "  'Loribury, AA',\n",
       "  '2021-04-08'],\n",
       " ['Make', 'Snyder-Lee', 'Angelastad, AP', '2021-04-08'],\n",
       " ['Nurse, adult', 'Harris PLC', 'Larrytown, AE', '2021-04-08'],\n",
       " ['Air broker', 'Washington PLC', 'West Colin, AP', '2021-04-08'],\n",
       " ['Editor, film/video',\n",
       "  'Brown, Price and Campbell',\n",
       "  'West Stephanie, AP',\n",
       "  '2021-04-08'],\n",
       " ['Production assistant, radio', 'Mcgee PLC', 'Laurentown, AP', '2021-04-08'],\n",
       " ['Engineer, communications', 'Dixon Inc', 'Wrightberg, AP', '2021-04-08'],\n",
       " ['Sales executive',\n",
       "  'Thompson, Sheppard and Ward',\n",
       "  'Alberttown, AE',\n",
       "  '2021-04-08'],\n",
       " ['Software Developer (Python)',\n",
       "  'Adams-Brewer',\n",
       "  'Brockburgh, AE',\n",
       "  '2021-04-08'],\n",
       " ['Futures trader', 'Schneider-Brady', 'North Jason, AE', '2021-04-08'],\n",
       " ['Tour manager', 'Gonzales-Frank', 'Arnoldhaven, AE', '2021-04-08'],\n",
       " ['Cytogeneticist', 'Smith-Wong', 'Lake Destiny, AP', '2021-04-08'],\n",
       " ['Designer, multimedia',\n",
       "  'Pierce-Herrera',\n",
       "  'South Timothyburgh, AP',\n",
       "  '2021-04-08'],\n",
       " ['Trade union research officer',\n",
       "  'Aguilar, Rivera and Quinn',\n",
       "  'New Jimmyton, AE',\n",
       "  '2021-04-08'],\n",
       " ['Chemist, analytical',\n",
       "  'Lowe, Barnes and Thomas',\n",
       "  'New Lucasbury, AP',\n",
       "  '2021-04-08'],\n",
       " ['Programmer, multimedia',\n",
       "  'Lewis, Gonzalez and Vasquez',\n",
       "  'Port Cory, AE',\n",
       "  '2021-04-08'],\n",
       " ['Engineer, broadcasting (operations)',\n",
       "  'Taylor PLC',\n",
       "  'Gileston, AA',\n",
       "  '2021-04-08'],\n",
       " ['Teacher, primary school',\n",
       "  'Oliver, Jones and Ramirez',\n",
       "  'Cindyshire, AA',\n",
       "  '2021-04-08'],\n",
       " ['Python Developer', 'Rivera and Sons', 'East Michaelfort, AA', '2021-04-08'],\n",
       " ['Manufacturing systems engineer', 'Garcia PLC', 'Joybury, AE', '2021-04-08'],\n",
       " ['Producer, television/film/video',\n",
       "  'Johnson, Wells and Kramer',\n",
       "  'Emmatown, AE',\n",
       "  '2021-04-08'],\n",
       " ['Scientist, forensic', 'Gonzalez LLC', 'Colehaven, AP', '2021-04-08'],\n",
       " ['Bonds trader',\n",
       "  'Morgan, White and Macdonald',\n",
       "  'Port Coryton, AE',\n",
       "  '2021-04-08'],\n",
       " ['Editorial assistant',\n",
       "  'Robinson-Fitzpatrick',\n",
       "  'Amyborough, AA',\n",
       "  '2021-04-08'],\n",
       " ['Photographer',\n",
       "  'Waters, Wilson and Hoover',\n",
       "  'Reynoldsville, AA',\n",
       "  '2021-04-08'],\n",
       " ['Retail banker', 'Hill LLC', 'Port Billy, AP', '2021-04-08'],\n",
       " ['Jewellery designer', 'Li-Gregory', 'Adamburgh, AA', '2021-04-08'],\n",
       " ['Ophthalmologist',\n",
       "  'Fisher, Ryan and Coleman',\n",
       "  'Wilsonmouth, AA',\n",
       "  '2021-04-08'],\n",
       " ['Back-End Web Developer (Python, Django)',\n",
       "  'Stewart-Alexander',\n",
       "  'South Kimberly, AA',\n",
       "  '2021-04-08'],\n",
       " ['Licensed conveyancer', 'Abbott and Sons', 'Benjaminland, AP', '2021-04-08'],\n",
       " ['Futures trader',\n",
       "  'Bryant, Santana and Davenport',\n",
       "  'Zacharyport, AA',\n",
       "  '2021-04-08'],\n",
       " ['Counselling psychologist',\n",
       "  'Smith PLC',\n",
       "  'Port Devonville, AE',\n",
       "  '2021-04-08'],\n",
       " ['Insurance underwriter', 'Patterson-Singh', 'East Thomas, AE', '2021-04-08'],\n",
       " ['Engineer, automotive', 'Martinez-Berry', 'New Jeffrey, AP', '2021-04-08'],\n",
       " ['Producer, radio', 'May, Taylor and Fisher', 'Davidside, AA', '2021-04-08'],\n",
       " ['Dispensing optician',\n",
       "  'Bailey, Owen and Thompson',\n",
       "  'Jamesville, AA',\n",
       "  '2021-04-08'],\n",
       " ['Designer, fashion/clothing', 'Vasquez Ltd', 'New Kelly, AP', '2021-04-08'],\n",
       " ['Chartered loss adjuster', 'Leblanc LLC', 'Lake Antonio, AA', '2021-04-08'],\n",
       " ['Back-End Web Developer (Python, Django)',\n",
       "  'Jackson, Ali and Mckee',\n",
       "  'New Elizabethside, AA',\n",
       "  '2021-04-08'],\n",
       " ['Forest/woodland manager',\n",
       "  'Blankenship, Knight and Powell',\n",
       "  'Millsbury, AE',\n",
       "  '2021-04-08'],\n",
       " ['Clinical cytogeneticist',\n",
       "  'Patton, Haynes and Jones',\n",
       "  'Lloydton, AP',\n",
       "  '2021-04-08'],\n",
       " ['Print production planner', 'Wood Inc', 'Port Jeremy, AA', '2021-04-08'],\n",
       " ['Systems developer', 'Collins Group', 'New Elizabethtown, AA', '2021-04-08'],\n",
       " ['Graphic designer', 'Flores-Nelson', 'Charlesstad, AE', '2021-04-08'],\n",
       " ['Writer', 'Mitchell, Jones and Olson', 'Josephbury, AE', '2021-04-08'],\n",
       " ['Field seismologist', 'Howard Group', 'Seanfurt, AA', '2021-04-08'],\n",
       " ['Chief Strategy Officer', 'Kramer-Edwards', 'Williambury, AA', '2021-04-08'],\n",
       " ['Air cabin crew', 'Berry-Houston', 'South Jorgeside, AP', '2021-04-08'],\n",
       " ['Python Programmer (Entry-Level)',\n",
       "  'Mathews Inc',\n",
       "  'Robertborough, AP',\n",
       "  '2021-04-08'],\n",
       " ['Warden/ranger', 'Riley-Johnson', 'South Saratown, AP', '2021-04-08'],\n",
       " ['Sports therapist', 'Spencer and Sons', 'Hullview, AA', '2021-04-08'],\n",
       " ['Arts development officer',\n",
       "  'Camacho-Sanchez',\n",
       "  'Philipland, AP',\n",
       "  '2021-04-08'],\n",
       " ['Printmaker', 'Oliver and Sons', 'North Patty, AE', '2021-04-08'],\n",
       " ['Health and safety adviser', 'Eaton PLC', 'North Stephen, AE', '2021-04-08'],\n",
       " ['Manufacturing systems engineer',\n",
       "  'Stanley-Frederick',\n",
       "  'Stevensland, AP',\n",
       "  '2021-04-08'],\n",
       " ['Programmer, applications', 'Bradley LLC', 'Reyesstad, AE', '2021-04-08'],\n",
       " ['Medical physicist',\n",
       "  'Parker, Goodwin and Zavala',\n",
       "  'Bellberg, AP',\n",
       "  '2021-04-08'],\n",
       " ['Media planner', 'Kim-Miles', 'North Johnland, AE', '2021-04-08'],\n",
       " ['Software Developer (Python)',\n",
       "  'Moreno-Rodriguez',\n",
       "  'Martinezburgh, AE',\n",
       "  '2021-04-08'],\n",
       " ['Surveyor, land/geomatics', 'Brown-Ortiz', 'Joshuatown, AE', '2021-04-08'],\n",
       " ['Legal executive', 'Hartman PLC', 'West Ericstad, AA', '2021-04-08'],\n",
       " ['Librarian, academic', 'Brooks Inc', 'Tuckertown, AE', '2021-04-08'],\n",
       " ['Barrister', 'Washington-Castillo', 'Perezton, AE', '2021-04-08'],\n",
       " ['Museum/gallery exhibitions officer',\n",
       "  'Nguyen, Yoder and Petty',\n",
       "  'Lake Abigail, AE',\n",
       "  '2021-04-08'],\n",
       " ['Radiographer, diagnostic', 'Holder LLC', 'Jacobshire, AP', '2021-04-08'],\n",
       " ['Database administrator', 'Yates-Ferguson', 'Port Susan, AE', '2021-04-08'],\n",
       " ['Furniture designer', 'Ortega-Lawrence', 'North Tiffany, AA', '2021-04-08'],\n",
       " ['Ship broker',\n",
       "  'Fuentes, Walls and Castro',\n",
       "  'Michelleville, AP',\n",
       "  '2021-04-08']]"
      ]
     },
     "execution_count": 24,
     "metadata": {},
     "output_type": "execute_result"
    }
   ],
   "source": [
    "divs = soup.find_all('div',class_='column is-half')\n",
    "\n",
    "all_data = []\n",
    "\n",
    "for div in divs:\n",
    "    data = []\n",
    "    title = div.find('h2',class_='title is-5').text.strip()\n",
    "    sub_title = div.find('h3', class_='subtitle is-6 company').text.strip()\n",
    "    location = div.find('p',class_='location').text.strip()\n",
    "    date = div.find('p',class_='is-small has-text-grey').text.strip()\n",
    "    data= [title,sub_title,location,date]\n",
    "    all_data.append(data)\n",
    "    # print(title)\n",
    "    # break\n",
    "all_data\n",
    "# save data into excel \n",
    "# open w "
   ]
  },
  {
   "cell_type": "code",
   "execution_count": null,
   "metadata": {},
   "outputs": [],
   "source": []
  }
 ],
 "metadata": {
  "kernelspec": {
   "display_name": "myenv",
   "language": "python",
   "name": "python3"
  },
  "language_info": {
   "codemirror_mode": {
    "name": "ipython",
    "version": 3
   },
   "file_extension": ".py",
   "mimetype": "text/x-python",
   "name": "python",
   "nbconvert_exporter": "python",
   "pygments_lexer": "ipython3",
   "version": "3.13.3"
  }
 },
 "nbformat": 4,
 "nbformat_minor": 2
}
