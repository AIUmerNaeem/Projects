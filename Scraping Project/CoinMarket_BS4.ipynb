{
 "cells": [
  {
   "cell_type": "code",
   "execution_count": 11,
   "metadata": {},
   "outputs": [],
   "source": [
    "from bs4 import BeautifulSoup\n",
    "import requests"
   ]
  },
  {
   "cell_type": "code",
   "execution_count": null,
   "metadata": {},
   "outputs": [
    {
     "data": {
      "text/plain": [
       "<Response [200]>"
      ]
     },
     "execution_count": 19,
     "metadata": {},
     "output_type": "execute_result"
    }
   ],
   "source": [
    "url = 'https://coinmarketcap.com/'\n",
    "request = requests.get(url)\n"
   ]
  },
  {
   "cell_type": "code",
   "execution_count": null,
   "metadata": {},
   "outputs": [],
   "source": [
    "soup = BeautifulSoup(request.content, 'html.parser') # urlib\n",
    "soup"
   ]
  },
  {
   "cell_type": "code",
   "execution_count": null,
   "metadata": {},
   "outputs": [],
   "source": [
    "table = soup.find('table',class_='cmc-table')\n",
    "print(table)"
   ]
  },
  {
   "cell_type": "code",
   "execution_count": null,
   "metadata": {},
   "outputs": [],
   "source": [
    "rows = table.find_all('tr')\n",
    "rows"
   ]
  },
  {
   "cell_type": "code",
   "execution_count": 16,
   "metadata": {},
   "outputs": [
    {
     "name": "stdout",
     "output_type": "stream",
     "text": [
      "1 BitcoinBTC $111,050.70 0.23% 0.23% 6.94% $2.21T$2,206,200,247,436 $57,932,610,768521.73K BTC\n",
      "2 EthereumETH $2,670.95 0.49% 0.66% 1.72% $322.37B$322,365,397,183 $26,094,422,7979.77M ETH\n",
      "3 TetherUSDT $0.9998 0.00% 0.00% 0.05% $152.47B$152,466,655,157 $99,743,645,24299.75B USDT\n",
      "4 XRPXRP $2.44 0.36% 0.79% 0.48% $143.31B$143,310,384,470 $3,336,646,4651.36B XRP\n",
      "5 SolanaSOL $185.90 0.56% 4.26% 7.25% $96.7B$96,699,008,174 $5,217,506,24328.06M SOL\n",
      "6 BNBBNB $683.44 0.50% 0.08% 4.02% $96.29B$96,288,997,388 $1,927,412,8392.82M BNB\n",
      "7 USDCUSDC $0.9998 0.00% 0.01% 0.01% $61.18B$61,179,206,040 $13,495,895,52813.49B USDC\n",
      "8 DogecoinDOGE $0.2461 1.03% 2.45% 7.31% $36.77B$36,770,239,334 $2,741,428,39311.13B DOGE\n",
      "9 CardanoADA $0.8163 0.90% 2.12% 4.30% $28.84B$28,835,988,962 $1,115,173,6581.36B ADA\n",
      "10 TRONTRX $0.2734 0.66% 1.56% 0.02% $25.95B$25,945,257,126 $1,005,654,0913.67B TRX\n"
     ]
    }
   ],
   "source": [
    "# all_tds = ['', 'rank', 'name','price' .....]\n",
    "for row in rows[1:11]:\n",
    "    table_data = row.find_all('td')\n",
    "    # print(table_data)\n",
    "    rank  = table_data[1].text\n",
    "    name = table_data[2].text\n",
    "    price = table_data[3].text\n",
    "    hour_change = table_data[4].text\n",
    "    day_change = table_data[5].text\n",
    "    seven_days_change = table_data[6].text\n",
    "    market_cap = table_data[7].text\n",
    "    volume = table_data[8].text\n",
    "    print(rank,name,price,hour_change,day_change,seven_days_change,market_cap,volume)\n",
    "    # break"
   ]
  },
  {
   "cell_type": "code",
   "execution_count": null,
   "metadata": {},
   "outputs": [],
   "source": []
  }
 ],
 "metadata": {
  "kernelspec": {
   "display_name": "base",
   "language": "python",
   "name": "python3"
  },
  "language_info": {
   "codemirror_mode": {
    "name": "ipython",
    "version": 3
   },
   "file_extension": ".py",
   "mimetype": "text/x-python",
   "name": "python",
   "nbconvert_exporter": "python",
   "pygments_lexer": "ipython3",
   "version": "3.12.7"
  }
 },
 "nbformat": 4,
 "nbformat_minor": 2
}
