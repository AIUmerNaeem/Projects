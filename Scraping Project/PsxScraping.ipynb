{
 "cells": [
  {
   "cell_type": "code",
   "execution_count": 1,
   "id": "641bdfb7",
   "metadata": {},
   "outputs": [],
   "source": [
    "from bs4 import BeautifulSoup\n",
    "import csv\n",
    "from datetime import date\n",
    "import datetime\n",
    "import requests"
   ]
  },
  {
   "cell_type": "code",
   "execution_count": 61,
   "id": "d61afc8b",
   "metadata": {},
   "outputs": [],
   "source": [
    "url = 'https://www.psx.com.pk/market-summary/'\n",
    "request = requests.get(url)"
   ]
  },
  {
   "cell_type": "code",
   "execution_count": null,
   "id": "3d8a677a",
   "metadata": {},
   "outputs": [],
   "source": [
    "soup = BeautifulSoup(request.content, 'html.parser') # urlib\n",
    "soup"
   ]
  },
  {
   "cell_type": "code",
   "execution_count": null,
   "id": "28f5d415",
   "metadata": {},
   "outputs": [],
   "source": [
    "div_tag = soup.find_all('div',class_='table-responsive')\n",
    "div_tag"
   ]
  },
  {
   "cell_type": "code",
   "execution_count": 64,
   "id": "9f1d03f7",
   "metadata": {},
   "outputs": [
    {
     "name": "stdout",
     "output_type": "stream",
     "text": [
      "2025-05-24 23:59:02\n"
     ]
    }
   ],
   "source": [
    "market_summary_date = soup.find('div',class_='col-sm-12 inner-content-table').h4.text\n",
    "print(market_summary_date)"
   ]
  },
  {
   "cell_type": "code",
   "execution_count": 77,
   "id": "c1d666fa",
   "metadata": {},
   "outputs": [
    {
     "ename": "NameError",
     "evalue": "name 'Z' is not defined",
     "output_type": "error",
     "traceback": [
      "\u001b[1;31m---------------------------------------------------------------------------\u001b[0m",
      "\u001b[1;31mNameError\u001b[0m                                 Traceback (most recent call last)",
      "Cell \u001b[1;32mIn[77], line 21\u001b[0m\n\u001b[0;32m     19\u001b[0m     write \u001b[38;5;241m=\u001b[39m csv\u001b[38;5;241m.\u001b[39mwriter(file)\n\u001b[0;32m     20\u001b[0m     write\u001b[38;5;241m.\u001b[39mwriterows(market_data)\n\u001b[1;32m---> 21\u001b[0m Z\n",
      "\u001b[1;31mNameError\u001b[0m: name 'Z' is not defined"
     ]
    }
   ],
   "source": [
    "from datetime import datetime\n",
    "\n",
    "market_data = []\n",
    "for tag in div_tag[2:]:\n",
    "    heading = tag.h4.text\n",
    "    rowData = tag.find_all('tr')\n",
    "    for rows in rowData[2:]:\n",
    "        innerList = []\n",
    "        for row in rows.find_all('td'):\n",
    "            innerList.append(row.text.strip())  # Added .strip() to clean text\n",
    "        innerList.append(heading)\n",
    "        innerList.append(market_summary_date)\n",
    "        innerList.append(datetime.now().strftime(\"%d/%m/%Y %H:%M:%S\"))  # Fixed syntax\n",
    "        market_data.append(innerList)\n",
    "\n",
    "# Display the first 5 rows of the data\n",
    "file = open(r'D:\\MarketData\\MarketSummary.csv', 'a+', newline='')\n",
    "with file:\n",
    "    write = csv.writer(file)\n",
    "    write.writerows(market_data)"
   ]
  },
  {
   "cell_type": "code",
   "execution_count": null,
   "id": "f234ef56",
   "metadata": {},
   "outputs": [],
   "source": []
  },
  {
   "cell_type": "code",
   "execution_count": null,
   "id": "936e6b42",
   "metadata": {},
   "outputs": [],
   "source": []
  },
  {
   "cell_type": "code",
   "execution_count": null,
   "id": "fb23a4ce",
   "metadata": {},
   "outputs": [],
   "source": []
  },
  {
   "cell_type": "code",
   "execution_count": null,
   "id": "1aa81293",
   "metadata": {},
   "outputs": [],
   "source": []
  }
 ],
 "metadata": {
  "kernelspec": {
   "display_name": "base",
   "language": "python",
   "name": "python3"
  },
  "language_info": {
   "codemirror_mode": {
    "name": "ipython",
    "version": 3
   },
   "file_extension": ".py",
   "mimetype": "text/x-python",
   "name": "python",
   "nbconvert_exporter": "python",
   "pygments_lexer": "ipython3",
   "version": "3.12.7"
  }
 },
 "nbformat": 4,
 "nbformat_minor": 5
}
